{
 "cells": [
  {
   "cell_type": "markdown",
   "metadata": {},
   "source": [
    "## Making Choices: using IF statements"
   ]
  },
  {
   "cell_type": "code",
   "execution_count": 4,
   "metadata": {},
   "outputs": [
    {
     "name": "stdout",
     "output_type": "stream",
     "text": [
      "Greater than 100\n",
      "Completed\n"
     ]
    }
   ],
   "source": [
    "# Conditionals in Python\n",
    "\n",
    "num = 100\n",
    "\n",
    "if num >= 100:\n",
    "    print ('Greater than 100')\n",
    "else:\n",
    "    print ('Not greater')\n",
    "    \n",
    "print ('Completed')"
   ]
  },
  {
   "attachments": {},
   "cell_type": "markdown",
   "metadata": {},
   "source": []
  },
  {
   "cell_type": "code",
   "execution_count": 8,
   "metadata": {},
   "outputs": [
    {
     "name": "stdout",
     "output_type": "stream",
     "text": [
      "This happens before the conditional\n",
      "102  is greater than 100\n",
      "This happens after the conditional\n"
     ]
    }
   ],
   "source": [
    "num = 102\n",
    "\n",
    "print ('This happens before the conditional')\n",
    "\n",
    "if num > 100:\n",
    "    print (num, ' is greater than 100')\n",
    "    \n",
    "print ('This happens after the conditional')"
   ]
  },
  {
   "cell_type": "code",
   "execution_count": 14,
   "metadata": {},
   "outputs": [
    {
     "name": "stdout",
     "output_type": "stream",
     "text": [
      "1 is positive\n"
     ]
    }
   ],
   "source": [
    "# Chain multiple tests together with elif\n",
    "num = 1\n",
    "\n",
    "# This is a single 'if' ladder\n",
    "# \n",
    "if num > 0:\n",
    "    print (num, 'is positive')\n",
    "elif num == 0:\n",
    "    print (num, 'is zero')\n",
    "else:\n",
    "    print (num, 'is negative')"
   ]
  },
  {
   "cell_type": "code",
   "execution_count": 16,
   "metadata": {},
   "outputs": [
    {
     "name": "stdout",
     "output_type": "stream",
     "text": [
      "Both parts are true\n"
     ]
    }
   ],
   "source": [
    "# Using and: both parts of the test need to be true\n",
    "\n",
    "#   TRUE        TRUE\n",
    "if (1 > 0) and (5 > 0):\n",
    "    print ('Both parts are true')\n",
    "else:\n",
    "    print ('One or more parts are false')\n",
    "    "
   ]
  },
  {
   "cell_type": "code",
   "execution_count": 18,
   "metadata": {},
   "outputs": [
    {
     "name": "stdout",
     "output_type": "stream",
     "text": [
      "At least one part is true\n"
     ]
    }
   ],
   "source": [
    "# Using or: at least one part must be true\n",
    "\n",
    "#   TRUE.        TRUE\n",
    "if (-7 < 0) or (-1 < 0):\n",
    "    print ('At least one part is true')\n",
    "    \n",
    "    "
   ]
  },
  {
   "cell_type": "code",
   "execution_count": 19,
   "metadata": {},
   "outputs": [
    {
     "data": {
      "text/plain": [
       "True"
      ]
     },
     "execution_count": 19,
     "metadata": {},
     "output_type": "execute_result"
    }
   ],
   "source": [
    "(-7 < 0)"
   ]
  },
  {
   "cell_type": "code",
   "execution_count": 20,
   "metadata": {},
   "outputs": [
    {
     "data": {
      "text/plain": [
       "False"
      ]
     },
     "execution_count": 20,
     "metadata": {},
     "output_type": "execute_result"
    }
   ],
   "source": [
    "(4 > 5)"
   ]
  },
  {
   "cell_type": "code",
   "execution_count": 21,
   "metadata": {},
   "outputs": [
    {
     "data": {
      "text/plain": [
       "True"
      ]
     },
     "execution_count": 21,
     "metadata": {},
     "output_type": "execute_result"
    }
   ],
   "source": [
    "-7 < 0"
   ]
  },
  {
   "cell_type": "markdown",
   "metadata": {},
   "source": [
    "### Using IF statements to analyse the inflammation data"
   ]
  },
  {
   "cell_type": "code",
   "execution_count": 24,
   "metadata": {},
   "outputs": [
    {
     "name": "stdout",
     "output_type": "stream",
     "text": [
      "Maxima add up to zero\n"
     ]
    }
   ],
   "source": [
    "import numpy\n",
    "\n",
    "data = numpy.loadtxt(fname = 'data/inflammation-03.csv', delimiter = ',')\n",
    "\n",
    "max_infl_day_00 = numpy.max(data, axis=0)[0]\n",
    "max_infl_day_20 = numpy.max(data, axis=0)[20]\n",
    "\n",
    "if max_infl_day_00 == 0 and max_infl_day_20 == 20:\n",
    "    print ('Suspicious looking maxima')\n",
    "elif numpy.sum(numpy.min(data, axis=0)) == 0:\n",
    "    print ('Maxima add up to zero')\n",
    "else:\n",
    "    print ('Data looks OK')"
   ]
  },
  {
   "cell_type": "markdown",
   "metadata": {},
   "source": [
    "## Exercises:"
   ]
  },
  {
   "cell_type": "code",
   "execution_count": 26,
   "metadata": {},
   "outputs": [
    {
     "name": "stdout",
     "output_type": "stream",
     "text": [
      "C\n"
     ]
    }
   ],
   "source": [
    "# How many paths?\n",
    "# Which route gets executed?\n",
    "\n",
    "if 4 > 5:\n",
    "    print('A')\n",
    "elif 4 == 5:\n",
    "    print('B')\n",
    "elif 4 < 5:\n",
    "    print('C')"
   ]
  },
  {
   "cell_type": "code",
   "execution_count": 28,
   "metadata": {},
   "outputs": [
    {
     "name": "stdout",
     "output_type": "stream",
     "text": [
      "word is true\n",
      "non-empty list is true\n",
      "one is true\n"
     ]
    }
   ],
   "source": [
    "# What is Truth?\n",
    "\n",
    "if '':\n",
    "    print('empty string is true')\n",
    "    \n",
    "if 'word':\n",
    "    print('word is true')\n",
    "    \n",
    "if []:\n",
    "    print('empty list is true')\n",
    "    \n",
    "if [1, 2, 3]:\n",
    "    print('non-empty list is true')\n",
    "    \n",
    "if 0:\n",
    "    print('zero is true')\n",
    "    \n",
    "if 1:\n",
    "    print('one is true')"
   ]
  },
  {
   "cell_type": "code",
   "execution_count": 29,
   "metadata": {},
   "outputs": [
    {
     "name": "stdout",
     "output_type": "stream",
     "text": [
      "empty string is not true\n",
      "not not True is true\n"
     ]
    }
   ],
   "source": [
    "# That's not what I meant...\n",
    "\n",
    "if not '':\n",
    "    print('empty string is not true')\n",
    "    \n",
    "if not 'word':\n",
    "    print('word is not true')\n",
    "    \n",
    "if not not True:\n",
    "    print('not not True is true')"
   ]
  },
  {
   "cell_type": "code",
   "execution_count": null,
   "metadata": {},
   "outputs": [],
   "source": []
  }
 ],
 "metadata": {
  "kernelspec": {
   "display_name": "Python 3",
   "language": "python",
   "name": "python3"
  },
  "language_info": {
   "codemirror_mode": {
    "name": "ipython",
    "version": 3
   },
   "file_extension": ".py",
   "mimetype": "text/x-python",
   "name": "python",
   "nbconvert_exporter": "python",
   "pygments_lexer": "ipython3",
   "version": "3.7.0"
  }
 },
 "nbformat": 4,
 "nbformat_minor": 2
}
